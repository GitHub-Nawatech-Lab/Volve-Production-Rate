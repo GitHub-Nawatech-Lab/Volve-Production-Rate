{
  "cells": [
    {
      "cell_type": "code",
      "source": [
        "from azureml.core import Workspace, Dataset\n",
        "\n",
        "subscription_id = '230da710-78c2-4cc1-9e21-36bccff41cae'\n",
        "resource_group = 'RESEARCH-DEVELOPMENT'\n",
        "workspace_name = 'aml-development'\n",
        "\n",
        "workspace = Workspace(subscription_id, resource_group, workspace_name)\n",
        "\n",
        "dataset = Dataset.get_by_name(workspace, \"volve_clean_dataset\")\n",
        "dataset.download(target_path='.', overwrite=False)"
      ],
      "outputs": [
        {
          "output_type": "execute_result",
          "execution_count": 8,
          "data": {
            "text/plain": "['/mnt/batch/tasks/shared/LS_root/mounts/clusters/visualizationdmim-cpu/code/Users/Fuad.Maulana/clean_data.csv']"
          },
          "metadata": {}
        }
      ],
      "execution_count": 8,
      "metadata": {
        "gather": {
          "logged": 1718169242685
        }
      }
    },
    {
      "cell_type": "code",
      "source": [
        "df = pd.read_csv(\"clean_data.csv\")\n",
        "test_df = df.iloc[len(df)-732:]\n",
        "test_df.drop([\"BORE_GAS_VOL\", \"BORE_WAT_VOL\"], axis=1, inplace=True)\n",
        "test_df.to_csv(\"test_df.csv\")"
      ],
      "outputs": [
        {
          "output_type": "stream",
          "name": "stderr",
          "text": "/tmp/ipykernel_8155/2943831687.py:3: SettingWithCopyWarning: \nA value is trying to be set on a copy of a slice from a DataFrame\n\nSee the caveats in the documentation: https://pandas.pydata.org/pandas-docs/stable/user_guide/indexing.html#returning-a-view-versus-a-copy\n  test_df.drop([\"BORE_GAS_VOL\", \"BORE_WAT_VOL\"], axis=1, inplace=True)\n"
        }
      ],
      "execution_count": 37,
      "metadata": {
        "jupyter": {
          "source_hidden": false,
          "outputs_hidden": false
        },
        "nteract": {
          "transient": {
            "deleting": false
          }
        },
        "gather": {
          "logged": 1718171153606
        }
      }
    },
    {
      "cell_type": "code",
      "source": [
        "test_df.info()"
      ],
      "outputs": [
        {
          "output_type": "stream",
          "name": "stdout",
          "text": "<class 'pandas.core.frame.DataFrame'>\nRangeIndex: 732 entries, 2484 to 3215\nData columns (total 8 columns):\n #   Column                    Non-Null Count  Dtype  \n---  ------                    --------------  -----  \n 0   DATEPRD                   732 non-null    object \n 1   AVG_DOWNHOLE_PRESSURE     732 non-null    float64\n 2   AVG_DOWNHOLE_TEMPERATURE  732 non-null    float64\n 3   AVG_DP_TUBING             732 non-null    float64\n 4   AVG_WHP_P                 732 non-null    float64\n 5   AVG_WHT_P                 732 non-null    float64\n 6   DP_CHOKE_SIZE             732 non-null    float64\n 7   BORE_OIL_VOL              732 non-null    float64\ndtypes: float64(7), object(1)\nmemory usage: 45.9+ KB\n"
        }
      ],
      "execution_count": 38,
      "metadata": {
        "jupyter": {
          "source_hidden": false,
          "outputs_hidden": false
        },
        "nteract": {
          "transient": {
            "deleting": false
          }
        },
        "gather": {
          "logged": 1718171153777
        }
      }
    },
    {
      "cell_type": "code",
      "source": [
        "def series_to_supervised(data, n_in=1, n_out=1, dropnan=True):\n",
        "    n_vars = 1 if type(data) is list else data.shape[1]\n",
        "    df = pd.DataFrame(data)\n",
        "    cols, names = list(), list()\n",
        "    # input sequence (t-n, ... t-1)\n",
        "    for i in range(n_in, 0, -1):\n",
        "        cols.append(df.shift(i))\n",
        "        names += [(f'{df.columns[j]}(t-{i})') for j in range(n_vars)]\n",
        "    # forecast sequence (t, t+1, ... t+n)\n",
        "    for i in range(0, n_out):\n",
        "        cols.append(df.shift(-i))\n",
        "        if i == 0:\n",
        "            names += [(f'{df.columns[j]}(t)') for j in range(n_vars)]\n",
        "        else:\n",
        "            names += [(f'{df.columns[j]}(t+{i})') for j in range(n_vars)]\n",
        "    # put it all together\n",
        "    agg = pd.concat(cols, axis=1)\n",
        "    agg.columns = names\n",
        "    # drop rows with NaN values\n",
        "    if dropnan:\n",
        "        agg.dropna(inplace=True)\n",
        "    return agg\n",
        "\n",
        "# frame as supervised learning\n",
        "test_df.set_index(\"DATEPRD\", inplace=True)\n",
        "n_in, n_out = 2, 1\n",
        "col_n_in = len(test_df.columns)*n_in\n",
        "reframed = series_to_supervised(test_df, n_in, n_out)\n",
        "\n",
        "# drop columns we don't want to predict\n",
        "reframed.drop(reframed.columns[list(range(col_n_in, col_n_in+len(test_df.columns)-1))], axis=1, inplace=True)\n",
        "reframed"
      ],
      "outputs": [
        {
          "output_type": "execute_result",
          "execution_count": 39,
          "data": {
            "text/plain": "            AVG_DOWNHOLE_PRESSURE(t-2)  AVG_DOWNHOLE_TEMPERATURE(t-2)  \\\nDATEPRD                                                                 \n2014-12-03                  213.025456                      82.530965   \n2014-12-04                  214.756528                      81.923593   \n2014-12-05                  215.829434                      81.738377   \n2014-12-06                  216.136133                      81.964996   \n2014-12-07                  216.209973                      82.934040   \n...                                ...                            ...   \n2016-11-27                  149.863207                      48.828456   \n2016-11-28                  149.863207                      48.828456   \n2016-11-29                  149.863207                      48.828456   \n2016-11-30                  149.863207                      48.828456   \n2016-12-01                  149.863207                      48.828456   \n\n            AVG_DP_TUBING(t-2)  AVG_WHP_P(t-2)  AVG_WHT_P(t-2)  \\\nDATEPRD                                                          \n2014-12-03          198.160056       67.230199       31.872970   \n2014-12-04          194.452604       73.458704       31.817019   \n2014-12-05          192.702049       76.898942       32.995571   \n2014-12-06          189.963722       80.453335       33.880065   \n2014-12-07          186.712924       83.903466       41.576689   \n...                        ...             ...             ...   \n2016-11-27          145.716024        7.683192       17.051464   \n2016-11-28          145.716024        7.683192       17.051464   \n2016-11-29          145.716024        7.683192       17.051464   \n2016-11-30          145.716024        7.683192       17.051464   \n2016-12-01          145.716024        7.683192       17.051464   \n\n            DP_CHOKE_SIZE(t-2)  BORE_OIL_VOL(t-2)  AVG_DOWNHOLE_PRESSURE(t-1)  \\\nDATEPRD                                                                         \n2014-12-03           30.528663             448.71                  214.756528   \n2014-12-04           35.182287             460.07                  215.829434   \n2014-12-05           37.648619             456.05                  216.136133   \n2014-12-06           39.287733             662.11                  216.209973   \n2014-12-07           38.846555             905.35                  217.281907   \n...                        ...                ...                         ...   \n2016-11-27            0.000000               0.00                  149.863207   \n2016-11-28            0.000000               0.00                  149.863207   \n2016-11-29            0.000000               0.00                  149.863207   \n2016-11-30            0.000000               0.00                  149.863207   \n2016-12-01            0.000000               0.00                  149.863207   \n\n            AVG_DOWNHOLE_TEMPERATURE(t-1)  AVG_DP_TUBING(t-1)  AVG_WHP_P(t-1)  \\\nDATEPRD                                                                         \n2014-12-03                      81.923593          194.452604       73.458704   \n2014-12-04                      81.738377          192.702049       76.898942   \n2014-12-05                      81.964996          189.963722       80.453335   \n2014-12-06                      82.934040          186.712924       83.903466   \n2014-12-07                      81.990201          201.825268       69.917991   \n...                                   ...                 ...             ...   \n2016-11-27                      48.828456          145.716024        7.683192   \n2016-11-28                      48.828456          145.716024        7.683192   \n2016-11-29                      48.828456          145.716024        7.683192   \n2016-11-30                      48.828456          145.716024        7.683192   \n2016-12-01                      48.828456          145.716024        7.683192   \n\n            AVG_WHT_P(t-1)  DP_CHOKE_SIZE(t-1)  BORE_OIL_VOL(t-1)  \\\nDATEPRD                                                             \n2014-12-03       31.817019           35.182287             460.07   \n2014-12-04       32.995571           37.648619             456.05   \n2014-12-05       33.880065           39.287733             662.11   \n2014-12-06       41.576689           38.846555             905.35   \n2014-12-07       32.540850           32.199197             605.76   \n...                    ...                 ...                ...   \n2016-11-27       17.051464            0.000000               0.00   \n2016-11-28       17.051464            0.000000               0.00   \n2016-11-29       17.051464            0.000000               0.00   \n2016-11-30       17.051464            0.000000               0.00   \n2016-12-01       17.051464            0.000000               0.00   \n\n            BORE_OIL_VOL(t)  \nDATEPRD                      \n2014-12-03           456.05  \n2014-12-04           662.11  \n2014-12-05           905.35  \n2014-12-06           605.76  \n2014-12-07           532.66  \n...                     ...  \n2016-11-27             0.00  \n2016-11-28             0.00  \n2016-11-29             0.00  \n2016-11-30             0.00  \n2016-12-01             0.00  \n\n[730 rows x 15 columns]",
            "text/html": "<div>\n<style scoped>\n    .dataframe tbody tr th:only-of-type {\n        vertical-align: middle;\n    }\n\n    .dataframe tbody tr th {\n        vertical-align: top;\n    }\n\n    .dataframe thead th {\n        text-align: right;\n    }\n</style>\n<table border=\"1\" class=\"dataframe\">\n  <thead>\n    <tr style=\"text-align: right;\">\n      <th></th>\n      <th>AVG_DOWNHOLE_PRESSURE(t-2)</th>\n      <th>AVG_DOWNHOLE_TEMPERATURE(t-2)</th>\n      <th>AVG_DP_TUBING(t-2)</th>\n      <th>AVG_WHP_P(t-2)</th>\n      <th>AVG_WHT_P(t-2)</th>\n      <th>DP_CHOKE_SIZE(t-2)</th>\n      <th>BORE_OIL_VOL(t-2)</th>\n      <th>AVG_DOWNHOLE_PRESSURE(t-1)</th>\n      <th>AVG_DOWNHOLE_TEMPERATURE(t-1)</th>\n      <th>AVG_DP_TUBING(t-1)</th>\n      <th>AVG_WHP_P(t-1)</th>\n      <th>AVG_WHT_P(t-1)</th>\n      <th>DP_CHOKE_SIZE(t-1)</th>\n      <th>BORE_OIL_VOL(t-1)</th>\n      <th>BORE_OIL_VOL(t)</th>\n    </tr>\n    <tr>\n      <th>DATEPRD</th>\n      <th></th>\n      <th></th>\n      <th></th>\n      <th></th>\n      <th></th>\n      <th></th>\n      <th></th>\n      <th></th>\n      <th></th>\n      <th></th>\n      <th></th>\n      <th></th>\n      <th></th>\n      <th></th>\n      <th></th>\n    </tr>\n  </thead>\n  <tbody>\n    <tr>\n      <th>2014-12-03</th>\n      <td>213.025456</td>\n      <td>82.530965</td>\n      <td>198.160056</td>\n      <td>67.230199</td>\n      <td>31.872970</td>\n      <td>30.528663</td>\n      <td>448.71</td>\n      <td>214.756528</td>\n      <td>81.923593</td>\n      <td>194.452604</td>\n      <td>73.458704</td>\n      <td>31.817019</td>\n      <td>35.182287</td>\n      <td>460.07</td>\n      <td>456.05</td>\n    </tr>\n    <tr>\n      <th>2014-12-04</th>\n      <td>214.756528</td>\n      <td>81.923593</td>\n      <td>194.452604</td>\n      <td>73.458704</td>\n      <td>31.817019</td>\n      <td>35.182287</td>\n      <td>460.07</td>\n      <td>215.829434</td>\n      <td>81.738377</td>\n      <td>192.702049</td>\n      <td>76.898942</td>\n      <td>32.995571</td>\n      <td>37.648619</td>\n      <td>456.05</td>\n      <td>662.11</td>\n    </tr>\n    <tr>\n      <th>2014-12-05</th>\n      <td>215.829434</td>\n      <td>81.738377</td>\n      <td>192.702049</td>\n      <td>76.898942</td>\n      <td>32.995571</td>\n      <td>37.648619</td>\n      <td>456.05</td>\n      <td>216.136133</td>\n      <td>81.964996</td>\n      <td>189.963722</td>\n      <td>80.453335</td>\n      <td>33.880065</td>\n      <td>39.287733</td>\n      <td>662.11</td>\n      <td>905.35</td>\n    </tr>\n    <tr>\n      <th>2014-12-06</th>\n      <td>216.136133</td>\n      <td>81.964996</td>\n      <td>189.963722</td>\n      <td>80.453335</td>\n      <td>33.880065</td>\n      <td>39.287733</td>\n      <td>662.11</td>\n      <td>216.209973</td>\n      <td>82.934040</td>\n      <td>186.712924</td>\n      <td>83.903466</td>\n      <td>41.576689</td>\n      <td>38.846555</td>\n      <td>905.35</td>\n      <td>605.76</td>\n    </tr>\n    <tr>\n      <th>2014-12-07</th>\n      <td>216.209973</td>\n      <td>82.934040</td>\n      <td>186.712924</td>\n      <td>83.903466</td>\n      <td>41.576689</td>\n      <td>38.846555</td>\n      <td>905.35</td>\n      <td>217.281907</td>\n      <td>81.990201</td>\n      <td>201.825268</td>\n      <td>69.917991</td>\n      <td>32.540850</td>\n      <td>32.199197</td>\n      <td>605.76</td>\n      <td>532.66</td>\n    </tr>\n    <tr>\n      <th>...</th>\n      <td>...</td>\n      <td>...</td>\n      <td>...</td>\n      <td>...</td>\n      <td>...</td>\n      <td>...</td>\n      <td>...</td>\n      <td>...</td>\n      <td>...</td>\n      <td>...</td>\n      <td>...</td>\n      <td>...</td>\n      <td>...</td>\n      <td>...</td>\n      <td>...</td>\n    </tr>\n    <tr>\n      <th>2016-11-27</th>\n      <td>149.863207</td>\n      <td>48.828456</td>\n      <td>145.716024</td>\n      <td>7.683192</td>\n      <td>17.051464</td>\n      <td>0.000000</td>\n      <td>0.00</td>\n      <td>149.863207</td>\n      <td>48.828456</td>\n      <td>145.716024</td>\n      <td>7.683192</td>\n      <td>17.051464</td>\n      <td>0.000000</td>\n      <td>0.00</td>\n      <td>0.00</td>\n    </tr>\n    <tr>\n      <th>2016-11-28</th>\n      <td>149.863207</td>\n      <td>48.828456</td>\n      <td>145.716024</td>\n      <td>7.683192</td>\n      <td>17.051464</td>\n      <td>0.000000</td>\n      <td>0.00</td>\n      <td>149.863207</td>\n      <td>48.828456</td>\n      <td>145.716024</td>\n      <td>7.683192</td>\n      <td>17.051464</td>\n      <td>0.000000</td>\n      <td>0.00</td>\n      <td>0.00</td>\n    </tr>\n    <tr>\n      <th>2016-11-29</th>\n      <td>149.863207</td>\n      <td>48.828456</td>\n      <td>145.716024</td>\n      <td>7.683192</td>\n      <td>17.051464</td>\n      <td>0.000000</td>\n      <td>0.00</td>\n      <td>149.863207</td>\n      <td>48.828456</td>\n      <td>145.716024</td>\n      <td>7.683192</td>\n      <td>17.051464</td>\n      <td>0.000000</td>\n      <td>0.00</td>\n      <td>0.00</td>\n    </tr>\n    <tr>\n      <th>2016-11-30</th>\n      <td>149.863207</td>\n      <td>48.828456</td>\n      <td>145.716024</td>\n      <td>7.683192</td>\n      <td>17.051464</td>\n      <td>0.000000</td>\n      <td>0.00</td>\n      <td>149.863207</td>\n      <td>48.828456</td>\n      <td>145.716024</td>\n      <td>7.683192</td>\n      <td>17.051464</td>\n      <td>0.000000</td>\n      <td>0.00</td>\n      <td>0.00</td>\n    </tr>\n    <tr>\n      <th>2016-12-01</th>\n      <td>149.863207</td>\n      <td>48.828456</td>\n      <td>145.716024</td>\n      <td>7.683192</td>\n      <td>17.051464</td>\n      <td>0.000000</td>\n      <td>0.00</td>\n      <td>149.863207</td>\n      <td>48.828456</td>\n      <td>145.716024</td>\n      <td>7.683192</td>\n      <td>17.051464</td>\n      <td>0.000000</td>\n      <td>0.00</td>\n      <td>0.00</td>\n    </tr>\n  </tbody>\n</table>\n<p>730 rows × 15 columns</p>\n</div>"
          },
          "metadata": {}
        }
      ],
      "execution_count": 39,
      "metadata": {
        "jupyter": {
          "source_hidden": false,
          "outputs_hidden": false
        },
        "nteract": {
          "transient": {
            "deleting": false
          }
        },
        "gather": {
          "logged": 1718171154192
        }
      }
    },
    {
      "cell_type": "code",
      "source": [
        "# Scaling Oil Data\n",
        "from sklearn.preprocessing import MinMaxScaler\n",
        "import pandas as pd\n",
        "scaler_oil = MinMaxScaler()\n",
        "oil_scaled = scaler_oil.fit_transform(reframed) \n",
        "oil_scaled_df = pd.DataFrame(oil_scaled, index=reframed.index, columns=reframed.columns)\n",
        "oil_scaled_df"
      ],
      "outputs": [
        {
          "output_type": "execute_result",
          "execution_count": 40,
          "data": {
            "text/plain": "            AVG_DOWNHOLE_PRESSURE(t-2)  AVG_DOWNHOLE_TEMPERATURE(t-2)  \\\nDATEPRD                                                                 \n2014-12-03                    0.763118                       0.954591   \n2014-12-04                    0.783780                       0.937441   \n2014-12-05                    0.796587                       0.932211   \n2014-12-06                    0.800248                       0.938610   \n2014-12-07                    0.801129                       0.965973   \n...                                ...                            ...   \n2016-11-27                    0.009194                       0.002920   \n2016-11-28                    0.009194                       0.002920   \n2016-11-29                    0.009194                       0.002920   \n2016-11-30                    0.009194                       0.002920   \n2016-12-01                    0.009194                       0.002920   \n\n            AVG_DP_TUBING(t-2)  AVG_WHP_P(t-2)  AVG_WHT_P(t-2)  \\\nDATEPRD                                                          \n2014-12-03            0.615289        0.684897        0.288685   \n2014-12-04            0.572867        0.748659        0.287767   \n2014-12-05            0.552836        0.783877        0.307112   \n2014-12-06            0.521503        0.820264        0.321631   \n2014-12-07            0.484307        0.855584        0.447969   \n...                        ...             ...             ...   \n2016-11-27            0.015206        0.075304        0.045394   \n2016-11-28            0.015206        0.075304        0.045394   \n2016-11-29            0.015206        0.075304        0.045394   \n2016-11-30            0.015206        0.075304        0.045394   \n2016-12-01            0.015206        0.075304        0.045394   \n\n            DP_CHOKE_SIZE(t-2)  BORE_OIL_VOL(t-2)  AVG_DOWNHOLE_PRESSURE(t-1)  \\\nDATEPRD                                                                         \n2014-12-03            0.603525           0.119907                    0.783780   \n2014-12-04            0.695523           0.122943                    0.796587   \n2014-12-05            0.744281           0.121868                    0.800248   \n2014-12-06            0.776684           0.176933                    0.801129   \n2014-12-07            0.767963           0.241933                    0.813924   \n...                        ...                ...                         ...   \n2016-11-27            0.000000           0.000000                    0.009194   \n2016-11-28            0.000000           0.000000                    0.009194   \n2016-11-29            0.000000           0.000000                    0.009194   \n2016-11-30            0.000000           0.000000                    0.009194   \n2016-12-01            0.000000           0.000000                    0.009194   \n\n            AVG_DOWNHOLE_TEMPERATURE(t-1)  AVG_DP_TUBING(t-1)  AVG_WHP_P(t-1)  \\\nDATEPRD                                                                         \n2014-12-03                       0.937441            0.572867        0.748659   \n2014-12-04                       0.932211            0.552836        0.783877   \n2014-12-05                       0.938610            0.521503        0.820264   \n2014-12-06                       0.965973            0.484307        0.855584   \n2014-12-07                       0.939322            0.657227        0.712412   \n...                                   ...                 ...             ...   \n2016-11-27                       0.002920            0.015206        0.075304   \n2016-11-28                       0.002920            0.015206        0.075304   \n2016-11-29                       0.002920            0.015206        0.075304   \n2016-11-30                       0.002920            0.015206        0.075304   \n2016-12-01                       0.002920            0.015206        0.075304   \n\n            AVG_WHT_P(t-1)  DP_CHOKE_SIZE(t-1)  BORE_OIL_VOL(t-1)  \\\nDATEPRD                                                             \n2014-12-03        0.287767            0.695523           0.122943   \n2014-12-04        0.307112            0.744281           0.121868   \n2014-12-05        0.321631            0.776684           0.176933   \n2014-12-06        0.447969            0.767963           0.241933   \n2014-12-07        0.299648            0.636550           0.161875   \n...                    ...                 ...                ...   \n2016-11-27        0.045394            0.000000           0.000000   \n2016-11-28        0.045394            0.000000           0.000000   \n2016-11-29        0.045394            0.000000           0.000000   \n2016-11-30        0.045394            0.000000           0.000000   \n2016-12-01        0.045394            0.000000           0.000000   \n\n            BORE_OIL_VOL(t)  \nDATEPRD                      \n2014-12-03         0.121868  \n2014-12-04         0.176933  \n2014-12-05         0.241933  \n2014-12-06         0.161875  \n2014-12-07         0.142341  \n...                     ...  \n2016-11-27         0.000000  \n2016-11-28         0.000000  \n2016-11-29         0.000000  \n2016-11-30         0.000000  \n2016-12-01         0.000000  \n\n[730 rows x 15 columns]",
            "text/html": "<div>\n<style scoped>\n    .dataframe tbody tr th:only-of-type {\n        vertical-align: middle;\n    }\n\n    .dataframe tbody tr th {\n        vertical-align: top;\n    }\n\n    .dataframe thead th {\n        text-align: right;\n    }\n</style>\n<table border=\"1\" class=\"dataframe\">\n  <thead>\n    <tr style=\"text-align: right;\">\n      <th></th>\n      <th>AVG_DOWNHOLE_PRESSURE(t-2)</th>\n      <th>AVG_DOWNHOLE_TEMPERATURE(t-2)</th>\n      <th>AVG_DP_TUBING(t-2)</th>\n      <th>AVG_WHP_P(t-2)</th>\n      <th>AVG_WHT_P(t-2)</th>\n      <th>DP_CHOKE_SIZE(t-2)</th>\n      <th>BORE_OIL_VOL(t-2)</th>\n      <th>AVG_DOWNHOLE_PRESSURE(t-1)</th>\n      <th>AVG_DOWNHOLE_TEMPERATURE(t-1)</th>\n      <th>AVG_DP_TUBING(t-1)</th>\n      <th>AVG_WHP_P(t-1)</th>\n      <th>AVG_WHT_P(t-1)</th>\n      <th>DP_CHOKE_SIZE(t-1)</th>\n      <th>BORE_OIL_VOL(t-1)</th>\n      <th>BORE_OIL_VOL(t)</th>\n    </tr>\n    <tr>\n      <th>DATEPRD</th>\n      <th></th>\n      <th></th>\n      <th></th>\n      <th></th>\n      <th></th>\n      <th></th>\n      <th></th>\n      <th></th>\n      <th></th>\n      <th></th>\n      <th></th>\n      <th></th>\n      <th></th>\n      <th></th>\n      <th></th>\n    </tr>\n  </thead>\n  <tbody>\n    <tr>\n      <th>2014-12-03</th>\n      <td>0.763118</td>\n      <td>0.954591</td>\n      <td>0.615289</td>\n      <td>0.684897</td>\n      <td>0.288685</td>\n      <td>0.603525</td>\n      <td>0.119907</td>\n      <td>0.783780</td>\n      <td>0.937441</td>\n      <td>0.572867</td>\n      <td>0.748659</td>\n      <td>0.287767</td>\n      <td>0.695523</td>\n      <td>0.122943</td>\n      <td>0.121868</td>\n    </tr>\n    <tr>\n      <th>2014-12-04</th>\n      <td>0.783780</td>\n      <td>0.937441</td>\n      <td>0.572867</td>\n      <td>0.748659</td>\n      <td>0.287767</td>\n      <td>0.695523</td>\n      <td>0.122943</td>\n      <td>0.796587</td>\n      <td>0.932211</td>\n      <td>0.552836</td>\n      <td>0.783877</td>\n      <td>0.307112</td>\n      <td>0.744281</td>\n      <td>0.121868</td>\n      <td>0.176933</td>\n    </tr>\n    <tr>\n      <th>2014-12-05</th>\n      <td>0.796587</td>\n      <td>0.932211</td>\n      <td>0.552836</td>\n      <td>0.783877</td>\n      <td>0.307112</td>\n      <td>0.744281</td>\n      <td>0.121868</td>\n      <td>0.800248</td>\n      <td>0.938610</td>\n      <td>0.521503</td>\n      <td>0.820264</td>\n      <td>0.321631</td>\n      <td>0.776684</td>\n      <td>0.176933</td>\n      <td>0.241933</td>\n    </tr>\n    <tr>\n      <th>2014-12-06</th>\n      <td>0.800248</td>\n      <td>0.938610</td>\n      <td>0.521503</td>\n      <td>0.820264</td>\n      <td>0.321631</td>\n      <td>0.776684</td>\n      <td>0.176933</td>\n      <td>0.801129</td>\n      <td>0.965973</td>\n      <td>0.484307</td>\n      <td>0.855584</td>\n      <td>0.447969</td>\n      <td>0.767963</td>\n      <td>0.241933</td>\n      <td>0.161875</td>\n    </tr>\n    <tr>\n      <th>2014-12-07</th>\n      <td>0.801129</td>\n      <td>0.965973</td>\n      <td>0.484307</td>\n      <td>0.855584</td>\n      <td>0.447969</td>\n      <td>0.767963</td>\n      <td>0.241933</td>\n      <td>0.813924</td>\n      <td>0.939322</td>\n      <td>0.657227</td>\n      <td>0.712412</td>\n      <td>0.299648</td>\n      <td>0.636550</td>\n      <td>0.161875</td>\n      <td>0.142341</td>\n    </tr>\n    <tr>\n      <th>...</th>\n      <td>...</td>\n      <td>...</td>\n      <td>...</td>\n      <td>...</td>\n      <td>...</td>\n      <td>...</td>\n      <td>...</td>\n      <td>...</td>\n      <td>...</td>\n      <td>...</td>\n      <td>...</td>\n      <td>...</td>\n      <td>...</td>\n      <td>...</td>\n      <td>...</td>\n    </tr>\n    <tr>\n      <th>2016-11-27</th>\n      <td>0.009194</td>\n      <td>0.002920</td>\n      <td>0.015206</td>\n      <td>0.075304</td>\n      <td>0.045394</td>\n      <td>0.000000</td>\n      <td>0.000000</td>\n      <td>0.009194</td>\n      <td>0.002920</td>\n      <td>0.015206</td>\n      <td>0.075304</td>\n      <td>0.045394</td>\n      <td>0.000000</td>\n      <td>0.000000</td>\n      <td>0.000000</td>\n    </tr>\n    <tr>\n      <th>2016-11-28</th>\n      <td>0.009194</td>\n      <td>0.002920</td>\n      <td>0.015206</td>\n      <td>0.075304</td>\n      <td>0.045394</td>\n      <td>0.000000</td>\n      <td>0.000000</td>\n      <td>0.009194</td>\n      <td>0.002920</td>\n      <td>0.015206</td>\n      <td>0.075304</td>\n      <td>0.045394</td>\n      <td>0.000000</td>\n      <td>0.000000</td>\n      <td>0.000000</td>\n    </tr>\n    <tr>\n      <th>2016-11-29</th>\n      <td>0.009194</td>\n      <td>0.002920</td>\n      <td>0.015206</td>\n      <td>0.075304</td>\n      <td>0.045394</td>\n      <td>0.000000</td>\n      <td>0.000000</td>\n      <td>0.009194</td>\n      <td>0.002920</td>\n      <td>0.015206</td>\n      <td>0.075304</td>\n      <td>0.045394</td>\n      <td>0.000000</td>\n      <td>0.000000</td>\n      <td>0.000000</td>\n    </tr>\n    <tr>\n      <th>2016-11-30</th>\n      <td>0.009194</td>\n      <td>0.002920</td>\n      <td>0.015206</td>\n      <td>0.075304</td>\n      <td>0.045394</td>\n      <td>0.000000</td>\n      <td>0.000000</td>\n      <td>0.009194</td>\n      <td>0.002920</td>\n      <td>0.015206</td>\n      <td>0.075304</td>\n      <td>0.045394</td>\n      <td>0.000000</td>\n      <td>0.000000</td>\n      <td>0.000000</td>\n    </tr>\n    <tr>\n      <th>2016-12-01</th>\n      <td>0.009194</td>\n      <td>0.002920</td>\n      <td>0.015206</td>\n      <td>0.075304</td>\n      <td>0.045394</td>\n      <td>0.000000</td>\n      <td>0.000000</td>\n      <td>0.009194</td>\n      <td>0.002920</td>\n      <td>0.015206</td>\n      <td>0.075304</td>\n      <td>0.045394</td>\n      <td>0.000000</td>\n      <td>0.000000</td>\n      <td>0.000000</td>\n    </tr>\n  </tbody>\n</table>\n<p>730 rows × 15 columns</p>\n</div>"
          },
          "metadata": {}
        }
      ],
      "execution_count": 40,
      "metadata": {
        "jupyter": {
          "source_hidden": false,
          "outputs_hidden": false
        },
        "nteract": {
          "transient": {
            "deleting": false
          }
        },
        "gather": {
          "logged": 1718171155560
        }
      }
    },
    {
      "cell_type": "code",
      "source": [
        "oil_scaled_df.to_csv(\"test_set.csv\", index=False)"
      ],
      "outputs": [],
      "execution_count": 41,
      "metadata": {
        "jupyter": {
          "source_hidden": false,
          "outputs_hidden": false
        },
        "nteract": {
          "transient": {
            "deleting": false
          }
        },
        "gather": {
          "logged": 1718171295968
        }
      }
    },
    {
      "cell_type": "code",
      "source": [
        "test_json = oil_scaled_df.drop(\"BORE_OIL_VOL(t)\", axis=1)\n",
        "test = {\"data\": test_json.values.tolist()}\n",
        "# print(type(test))\n",
        "# print(test)\n",
        "import json\n",
        "with open(\"test.json\", \"w\") as fp:\n",
        "    json.dump(test, fp)"
      ],
      "outputs": [],
      "execution_count": 49,
      "metadata": {
        "jupyter": {
          "source_hidden": false,
          "outputs_hidden": false
        },
        "nteract": {
          "transient": {
            "deleting": false
          }
        },
        "gather": {
          "logged": 1718172018766
        }
      }
    },
    {
      "cell_type": "code",
      "source": [],
      "outputs": [],
      "execution_count": null,
      "metadata": {
        "jupyter": {
          "source_hidden": false,
          "outputs_hidden": false
        },
        "nteract": {
          "transient": {
            "deleting": false
          }
        }
      }
    }
  ],
  "metadata": {
    "kernelspec": {
      "name": "python310-sdkv2",
      "language": "python",
      "display_name": "Python 3.10 - SDK v2"
    },
    "language_info": {
      "name": "python",
      "version": "3.10.11",
      "mimetype": "text/x-python",
      "codemirror_mode": {
        "name": "ipython",
        "version": 3
      },
      "pygments_lexer": "ipython3",
      "nbconvert_exporter": "python",
      "file_extension": ".py"
    },
    "microsoft": {
      "ms_spell_check": {
        "ms_spell_check_language": "en"
      },
      "host": {
        "AzureML": {
          "notebookHasBeenCompleted": true
        }
      }
    },
    "kernel_info": {
      "name": "python310-sdkv2"
    },
    "nteract": {
      "version": "nteract-front-end@1.0.0"
    }
  },
  "nbformat": 4,
  "nbformat_minor": 2
}